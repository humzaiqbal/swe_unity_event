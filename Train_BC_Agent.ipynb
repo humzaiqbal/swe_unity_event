{
 "cells": [
  {
   "cell_type": "code",
   "execution_count": 2,
   "metadata": {
    "collapsed": false
   },
   "outputs": [
    {
     "name": "stderr",
     "output_type": "stream",
     "text": [
      "Using TensorFlow backend.\n"
     ]
    }
   ],
   "source": [
    "import numpy as np \n",
    "import keras\n",
    "from keras.models import Sequential\n",
    "from keras.layers.core import Dense, Dropout, Activation, Flatten\n",
    "from keras.optimizers import SGD , Adam\n",
    "from keras.models import load_model\n",
    "import tensorflow as tf\n",
    "from sklearn.model_selection import train_test_split"
   ]
  },
  {
   "cell_type": "markdown",
   "metadata": {},
   "source": [
    "# Load Data"
   ]
  },
  {
   "cell_type": "code",
   "execution_count": 3,
   "metadata": {
    "collapsed": false,
    "scrolled": false
   },
   "outputs": [],
   "source": [
    "raw_data = np.loadtxt('training.txt')\n",
    "\n",
    "labels = raw_data[:,-1]\n",
    "labels = keras.utils.to_categorical(labels, 2)\n",
    "\n",
    "data = raw_data[:,[0, 1, 2, 3, 4, 5, 6, 7]]\n",
    "\n",
    "X_train, X_test, y_train, y_test = train_test_split(data, labels, test_size=0.01, random_state=2)"
   ]
  },
  {
   "cell_type": "markdown",
   "metadata": {},
   "source": [
    "# Create Network + Train"
   ]
  },
  {
   "cell_type": "code",
   "execution_count": 5,
   "metadata": {
    "collapsed": false,
    "scrolled": true
   },
   "outputs": [
    {
     "name": "stdout",
     "output_type": "stream",
     "text": [
      "Train on 294787 samples, validate on 2978 samples\n",
      "Epoch 1/25\n",
      "294787/294787 [==============================] - 1s - loss: 0.3519 - acc: 0.8762 - val_loss: 0.2414 - val_acc: 0.8590\n",
      "Epoch 2/25\n",
      "294787/294787 [==============================] - 1s - loss: 0.2697 - acc: 0.8986 - val_loss: 0.2016 - val_acc: 0.8976\n",
      "Epoch 3/25\n",
      "294787/294787 [==============================] - 1s - loss: 0.2550 - acc: 0.9072 - val_loss: 0.2051 - val_acc: 0.8956\n",
      "Epoch 4/25\n",
      "294787/294787 [==============================] - 1s - loss: 0.2536 - acc: 0.9079 - val_loss: 0.2002 - val_acc: 0.9016\n",
      "Epoch 5/25\n",
      "294787/294787 [==============================] - 1s - loss: 0.2483 - acc: 0.9093 - val_loss: 0.1917 - val_acc: 0.9083\n",
      "Epoch 6/25\n",
      "294787/294787 [==============================] - 1s - loss: 0.2448 - acc: 0.9112 - val_loss: 0.2141 - val_acc: 0.8899\n",
      "Epoch 7/25\n",
      "294787/294787 [==============================] - 1s - loss: 0.2438 - acc: 0.9104 - val_loss: 0.1955 - val_acc: 0.9009\n",
      "Epoch 8/25\n",
      "294787/294787 [==============================] - 1s - loss: 0.2401 - acc: 0.9120 - val_loss: 0.1774 - val_acc: 0.9150\n",
      "Epoch 9/25\n",
      "294787/294787 [==============================] - 1s - loss: 0.2390 - acc: 0.9132 - val_loss: 0.1739 - val_acc: 0.9187\n",
      "Epoch 10/25\n",
      "294787/294787 [==============================] - 1s - loss: 0.2391 - acc: 0.9125 - val_loss: 0.1846 - val_acc: 0.9066\n",
      "Epoch 11/25\n",
      "294787/294787 [==============================] - 1s - loss: 0.2378 - acc: 0.9135 - val_loss: 0.2023 - val_acc: 0.9019\n",
      "Epoch 12/25\n",
      "294787/294787 [==============================] - 1s - loss: 0.2378 - acc: 0.9129 - val_loss: 0.1982 - val_acc: 0.9003\n",
      "Epoch 13/25\n",
      "294787/294787 [==============================] - 1s - loss: 0.2370 - acc: 0.9134 - val_loss: 0.1788 - val_acc: 0.9140\n",
      "Epoch 14/25\n",
      "294787/294787 [==============================] - 1s - loss: 0.2364 - acc: 0.9133 - val_loss: 0.1903 - val_acc: 0.9053\n",
      "Epoch 15/25\n",
      "294787/294787 [==============================] - 1s - loss: 0.2353 - acc: 0.9149 - val_loss: 0.1790 - val_acc: 0.9154\n",
      "Epoch 16/25\n",
      "294787/294787 [==============================] - 1s - loss: 0.2351 - acc: 0.9142 - val_loss: 0.1834 - val_acc: 0.9144\n",
      "Epoch 17/25\n",
      "294787/294787 [==============================] - 1s - loss: 0.2342 - acc: 0.9142 - val_loss: 0.1813 - val_acc: 0.9090\n",
      "Epoch 18/25\n",
      "294787/294787 [==============================] - 1s - loss: 0.2332 - acc: 0.9148 - val_loss: 0.1835 - val_acc: 0.9080\n",
      "Epoch 19/25\n",
      "294787/294787 [==============================] - 1s - loss: 0.2335 - acc: 0.9148 - val_loss: 0.1816 - val_acc: 0.9134\n",
      "Epoch 20/25\n",
      "294787/294787 [==============================] - 1s - loss: 0.2330 - acc: 0.9154 - val_loss: 0.1802 - val_acc: 0.9110\n",
      "Epoch 21/25\n",
      "294787/294787 [==============================] - 1s - loss: 0.2331 - acc: 0.9147 - val_loss: 0.1765 - val_acc: 0.9117\n",
      "Epoch 22/25\n",
      "294787/294787 [==============================] - 1s - loss: 0.2325 - acc: 0.9146 - val_loss: 0.1733 - val_acc: 0.9167\n",
      "Epoch 23/25\n",
      "294787/294787 [==============================] - 1s - loss: 0.2305 - acc: 0.9157 - val_loss: 0.1746 - val_acc: 0.9150\n",
      "Epoch 24/25\n",
      "294787/294787 [==============================] - 1s - loss: 0.2318 - acc: 0.9157 - val_loss: 0.1854 - val_acc: 0.9080\n",
      "Epoch 25/25\n",
      "294787/294787 [==============================] - 1s - loss: 0.2313 - acc: 0.9157 - val_loss: 0.1768 - val_acc: 0.9137\n",
      "1024/2978 [=========>....................] - ETA: 0s[0.17680092657308918, 0.91370049957623811]\n"
     ]
    }
   ],
   "source": [
    "batch_size = 1024\n",
    "epochs = 25\n",
    "LEARNING_RATE = 0.01\n",
    "\n",
    "model = Sequential()\n",
    "model.add(Dense(12, activation='relu', input_shape=(8,)))\n",
    "model.add(Dense(9, activation='relu'))\n",
    "model.add(Dense(7, activation='relu'))\n",
    "model.add(Dense(5, activation='relu'))\n",
    "model.add(Dense(3, activation='relu'))\n",
    "model.add(Dense(2, activation='softmax'))\n",
    "adam = Adam(lr=LEARNING_RATE)\n",
    "class_weight = {0 : 1., 1: 2.}\n",
    "model.compile(loss='categorical_crossentropy',optimizer=adam, metrics=['accuracy'])\n",
    "model.fit(X_train, y_train, batch_size=batch_size, epochs=epochs, class_weight = class_weight,\n",
    "          validation_data=(X_test, y_test), verbose = 1, shuffle = True)\n",
    "model.save('flappy.h5')"
   ]
  },
  {
   "cell_type": "code",
   "execution_count": 18,
   "metadata": {
    "collapsed": false
   },
   "outputs": [
    {
     "name": "stdout",
     "output_type": "stream",
     "text": [
      "(10,)\n",
      "(1, 10)\n"
     ]
    }
   ],
   "source": [
    "print model.evaluate(X_test, y_test, batch_size = 1024, verbose=1)"
   ]
  },
  {
   "cell_type": "code",
   "execution_count": 1,
   "metadata": {
    "collapsed": false,
    "scrolled": true
   },
   "outputs": [
    {
     "ename": "NameError",
     "evalue": "name 'model' is not defined",
     "output_type": "error",
     "traceback": [
      "\u001b[1;31m---------------------------------------------------------------------------\u001b[0m",
      "\u001b[1;31mNameError\u001b[0m                                 Traceback (most recent call last)",
      "\u001b[1;32m<ipython-input-1-a63560b43fba>\u001b[0m in \u001b[0;36m<module>\u001b[1;34m()\u001b[0m\n\u001b[1;32m----> 1\u001b[1;33m \u001b[0mscore\u001b[0m \u001b[1;33m=\u001b[0m \u001b[0mmodel\u001b[0m\u001b[1;33m.\u001b[0m\u001b[0mpredict\u001b[0m\u001b[1;33m(\u001b[0m\u001b[0mX_test\u001b[0m\u001b[1;33m[\u001b[0m\u001b[1;33m:\u001b[0m\u001b[1;36m200\u001b[0m\u001b[1;33m]\u001b[0m\u001b[1;33m)\u001b[0m\u001b[1;33m\u001b[0m\u001b[0m\n\u001b[0m\u001b[0;32m      2\u001b[0m \u001b[1;32mprint\u001b[0m \u001b[0mscore\u001b[0m\u001b[1;33m\u001b[0m\u001b[0m\n",
      "\u001b[1;31mNameError\u001b[0m: name 'model' is not defined"
     ]
    }
   ],
   "source": [
    "# score = model.predict(X_test[:200])\n",
    "# print score"
   ]
  }
 ],
 "metadata": {
  "kernelspec": {
   "display_name": "Python [Root]",
   "language": "python",
   "name": "Python [Root]"
  },
  "language_info": {
   "codemirror_mode": {
    "name": "ipython",
    "version": 2
   },
   "file_extension": ".py",
   "mimetype": "text/x-python",
   "name": "python",
   "nbconvert_exporter": "python",
   "pygments_lexer": "ipython2",
   "version": "2.7.12"
  }
 },
 "nbformat": 4,
 "nbformat_minor": 0
}
